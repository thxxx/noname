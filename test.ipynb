{
 "cells": [
  {
   "cell_type": "code",
   "execution_count": 1,
   "id": "b9ace2c0",
   "metadata": {},
   "outputs": [
    {
     "name": "stderr",
     "output_type": "stream",
     "text": [
      "/home/khj6051/myenv/lib/python3.10/site-packages/tqdm/auto.py:21: TqdmWarning: IProgress not found. Please update jupyter and ipywidgets. See https://ipywidgets.readthedocs.io/en/stable/user_install.html\n",
      "  from .autonotebook import tqdm as notebook_tqdm\n"
     ]
    }
   ],
   "source": [
    "from datasets import load_dataset\n",
    "\n",
    "ds = load_dataset(\"atmansingh/ljspeech\")"
   ]
  },
  {
   "cell_type": "code",
   "execution_count": 5,
   "id": "225b4965",
   "metadata": {},
   "outputs": [
    {
     "data": {
      "text/plain": [
       "DatasetDict({\n",
       "    train: Dataset({\n",
       "        features: ['audio', 'text', 'file_id', 'original_transcription'],\n",
       "        num_rows: 11775\n",
       "    })\n",
       "    validation: Dataset({\n",
       "        features: ['audio', 'text', 'file_id', 'original_transcription'],\n",
       "        num_rows: 1309\n",
       "    })\n",
       "})"
      ]
     },
     "execution_count": 5,
     "metadata": {},
     "output_type": "execute_result"
    }
   ],
   "source": [
    "ds"
   ]
  },
  {
   "cell_type": "code",
   "execution_count": null,
   "id": "51cecb22",
   "metadata": {},
   "outputs": [
    {
     "data": {
      "text/plain": [
       "{'audio': {'path': 'LJ042-0181.wav',\n",
       "  'array': array([0.00189209, 0.00311279, 0.00411987, ..., 0.00213623, 0.00204468,\n",
       "         0.00131226], shape=(145565,)),\n",
       "  'sampling_rate': 22050},\n",
       " 'text': 'Oswald realized that, quote, their thinking and education will be steeped in the traditions of those systems',\n",
       " 'file_id': 'LJ042-0181',\n",
       " 'original_transcription': 'Oswald realized that, quote, their thinking and education will be steeped in the traditions of those systems'}"
      ]
     },
     "execution_count": 4,
     "metadata": {},
     "output_type": "execute_result"
    }
   ],
   "source": [
    "from utils.feature import TorchAudioFbank, TorchAudioFbankConfig\n",
    "fbank = TorchAudioFbank(config=TorchAudioFbankConfig(sampling_rate=24000, n_mels=100, n_fft=1024, hop_length=256))\n",
    "\n",
    "ds['train'][0]['audio']['array']"
   ]
  },
  {
   "cell_type": "code",
   "execution_count": null,
   "id": "fa86f07c",
   "metadata": {},
   "outputs": [],
   "source": [
    "import librosa\n",
    "import torch\n",
    "from utils.feature import TorchAudioFbank, TorchAudioFbankConfig\n",
    "import time\n",
    "import matplotlib.pyplot as plt\n",
    "import numpy as np\n",
    "\n",
    "fbank = TorchAudioFbank(config=TorchAudioFbankConfig(sampling_rate=24000, n_mels=100, n_fft=1024, hop_length=256))\n",
    "\n",
    "audio_path = './test.wav'\n",
    "audio, sr = librosa.load(audio_path, sr=24000)\n",
    "\n",
    "audio = torch.from_numpy(audio)\n",
    "logmel = fbank.extract(audio, sr)\n",
    "logmel_np = logmel.numpy() if hasattr(logmel, \"numpy\") else logmel\n",
    "\n",
    "\n",
    "plt.figure(figsize=(10, 4))\n",
    "plt.imshow(logmel_np.T, \n",
    "           aspect=\"auto\", \n",
    "           origin=\"lower\", \n",
    "           interpolation=\"none\")\n",
    "plt.colorbar(format=\"%+2.0f dB\")\n",
    "plt.title(\"Log-Mel Spectrogram\")\n",
    "plt.xlabel(\"Frames (Time)\")\n",
    "plt.ylabel(\"Mel bins\")\n",
    "plt.tight_layout()\n",
    "plt.show()"
   ]
  },
  {
   "cell_type": "code",
   "execution_count": null,
   "id": "e7873561",
   "metadata": {},
   "outputs": [],
   "source": [
    "from tokenizerown import LibriTTSTokenizer\n",
    "\n",
    "text = \"Hey... 2015 <filler>\"\n",
    "\n",
    "tokenizer = LibriTTSTokenizer(\n",
    "    special_tokens=[\"<filler>\"],\n",
    "    token_file=\"./vocab_small.txt\",\n",
    "    lowercase=True,\n",
    "    oov_policy=\"skip\",        # OOV은 버림 (또는 \"use_unk\", \"error\")\n",
    "    unk_token=\"[UNK]\",        # oov_policy=\"use_unk\"일 때만 필요\n",
    ")\n",
    "tokens = tokenizer.texts_to_tokens([text])\n",
    "token_ids = tokenizer.texts_to_token_ids([text])\n",
    "print(len(token_ids[0]), tokens, token_ids)"
   ]
  },
  {
   "cell_type": "code",
   "execution_count": null,
   "id": "483012c2",
   "metadata": {},
   "outputs": [],
   "source": []
  }
 ],
 "metadata": {
  "kernelspec": {
   "display_name": "myenv",
   "language": "python",
   "name": "python3"
  },
  "language_info": {
   "codemirror_mode": {
    "name": "ipython",
    "version": 3
   },
   "file_extension": ".py",
   "mimetype": "text/x-python",
   "name": "python",
   "nbconvert_exporter": "python",
   "pygments_lexer": "ipython3",
   "version": "3.10.12"
  }
 },
 "nbformat": 4,
 "nbformat_minor": 5
}
