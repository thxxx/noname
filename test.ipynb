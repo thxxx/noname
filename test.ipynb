{
 "cells": [
  {
   "cell_type": "code",
   "execution_count": null,
   "id": "b9ace2c0",
   "metadata": {},
   "outputs": [],
   "source": [
    "from datasets import load_dataset\n",
    "\n",
    "ds = load_dataset(\"atmansingh/ljspeech\")"
   ]
  },
  {
   "cell_type": "code",
   "execution_count": null,
   "id": "225b4965",
   "metadata": {},
   "outputs": [],
   "source": [
    "ds"
   ]
  },
  {
   "cell_type": "code",
   "execution_count": null,
   "id": "51cecb22",
   "metadata": {},
   "outputs": [],
   "source": [
    "from utils.feature import TorchAudioFbank, TorchAudioFbankConfig\n",
    "fbank = TorchAudioFbank(config=TorchAudioFbankConfig(sampling_rate=24000, n_mels=100, n_fft=1024, hop_length=256))\n",
    "\n",
    "ds['train'][0]['audio']['array']"
   ]
  },
  {
   "cell_type": "code",
   "execution_count": null,
   "id": "fa86f07c",
   "metadata": {},
   "outputs": [],
   "source": [
    "import librosa\n",
    "import torch\n",
    "from utils.feature import TorchAudioFbank, TorchAudioFbankConfig\n",
    "import time\n",
    "import matplotlib.pyplot as plt\n",
    "import numpy as np\n",
    "\n",
    "fbank = TorchAudioFbank(config=TorchAudioFbankConfig(sampling_rate=24000, n_mels=100, n_fft=1024, hop_length=256))\n",
    "\n",
    "audio_path = './test.wav'\n",
    "audio, sr = librosa.load(audio_path, sr=24000)\n",
    "\n",
    "audio = torch.from_numpy(audio)\n",
    "logmel = fbank.extract(audio, sr)\n",
    "logmel_np = logmel.numpy() if hasattr(logmel, \"numpy\") else logmel\n",
    "\n",
    "\n",
    "plt.figure(figsize=(10, 4))\n",
    "plt.imshow(logmel_np.T, \n",
    "           aspect=\"auto\", \n",
    "           origin=\"lower\", \n",
    "           interpolation=\"none\")\n",
    "plt.colorbar(format=\"%+2.0f dB\")\n",
    "plt.title(\"Log-Mel Spectrogram\")\n",
    "plt.xlabel(\"Frames (Time)\")\n",
    "plt.ylabel(\"Mel bins\")\n",
    "plt.tight_layout()\n",
    "plt.show()"
   ]
  },
  {
   "cell_type": "code",
   "execution_count": null,
   "id": "e7873561",
   "metadata": {},
   "outputs": [],
   "source": [
    "from tokenizerown import LibriTTSTokenizer, EmiliaTokenizer\n",
    "\n",
    "text = \"Hey... 2015 <filler>\"\n",
    "\n",
    "tokenizer = LibriTTSTokenizer(\n",
    "    special_tokens=[\"<filler>\"],\n",
    "    token_file=\"./vocab_small.txt\",\n",
    "    lowercase=True,\n",
    "    oov_policy=\"skip\",        # OOV은 버림 (또는 \"use_unk\", \"error\")\n",
    "    unk_token=\"[UNK]\",        # oov_policy=\"use_unk\"일 때만 필요\n",
    ")\n",
    "tokens = tokenizer.texts_to_tokens([text])\n",
    "token_ids = tokenizer.texts_to_token_ids([text])\n",
    "print(len(token_ids[0]), tokens, token_ids)"
   ]
  },
  {
   "cell_type": "code",
   "execution_count": null,
   "id": "483012c2",
   "metadata": {},
   "outputs": [],
   "source": [
    "from tokenizer import EmiliaTokenizer\n",
    "\n",
    "text = \"Hey... 2015 <filler>\"\n",
    "\n",
    "tokenizer = EmiliaTokenizer(\n",
    "    token_file=\"./vocab.txt\",\n",
    ")\n",
    "tokens = tokenizer.texts_to_tokens([text])\n",
    "token_ids = tokenizer.texts_to_token_ids([text])\n",
    "print(len(token_ids[0]), tokens, token_ids)"
   ]
  },
  {
   "cell_type": "code",
   "execution_count": null,
   "id": "c358d3c6",
   "metadata": {},
   "outputs": [],
   "source": [
    "texts = tokenizer.token_ids_to_texts(token_ids)\n",
    "print(texts)"
   ]
  },
  {
   "cell_type": "code",
   "execution_count": null,
   "id": "83a2e7b8",
   "metadata": {},
   "outputs": [],
   "source": []
  },
  {
   "cell_type": "code",
   "execution_count": null,
   "id": "4401dc2d",
   "metadata": {},
   "outputs": [],
   "source": [
    "from datasets import load_dataset\n",
    "\n",
    "ds = load_dataset(\"atmansingh/ljspeech\")\n",
    "print(len(ds['train']))\n",
    "print(len(ds['validation']))\n",
    "\n",
    "from data.text_mel_datamodule import TextMelDataset, TextMelDataModule\n",
    "\n",
    "dm = TextMelDataModule(\n",
    "    name=\"ljspeech\",\n",
    "    dataset=ds,\n",
    "    batch_size=4,\n",
    "    num_workers=4,\n",
    "    pin_memory=True,\n",
    "    n_spks=1,             # LJSpeech = 단일 화자 → 1\n",
    "    n_fft=1024,\n",
    "    n_feats=100,           # mel bins\n",
    "    sample_rate=24000,\n",
    "    hop_length=256,\n",
    "    f_min=0,\n",
    "    f_max=8000,\n",
    "    data_statistics={\"mel_mean\": 0.0, \"mel_std\": 1.0},\n",
    "    seed=42,\n",
    "    load_durations=False, # alignment 정보 필요 없으면 False\n",
    ")\n",
    "\n",
    "dm.setup(0)\n",
    "\n",
    "data = next(iter(dm.train_dataloader()))\n",
    "\n",
    "print(data['text'].shape, data['audio'].shape)"
   ]
  },
  {
   "cell_type": "code",
   "execution_count": 21,
   "id": "cfa047b3",
   "metadata": {},
   "outputs": [
    {
     "name": "stdout",
     "output_type": "stream",
     "text": [
      "torch.Size([938, 100]) torch.Size([938, 16])\n",
      "torch.Size([938, 100]) torch.Size([938, 16])\n",
      "torch.Size([938, 100]) torch.Size([938, 16])\n",
      "torch.Size([938, 100]) torch.Size([938, 16])\n"
     ]
    }
   ],
   "source": [
    "import matplotlib.pyplot as plt\n",
    "from einops import repeat\n",
    "import numpy as np\n",
    "\n",
    "def visualize_mel(data):\n",
    "    plt.figure(figsize=(10, 4))\n",
    "    plt.imshow(data.T, \n",
    "            aspect=\"auto\", \n",
    "            origin=\"lower\", \n",
    "            interpolation=\"none\")\n",
    "    plt.colorbar(format=\"%+2.0f dB\")\n",
    "    plt.title(\"Log-Mel Spectrogram\")\n",
    "    plt.xlabel(\"Frames (Time)\")\n",
    "    plt.ylabel(\"Mel bins\")\n",
    "    plt.tight_layout()\n",
    "    plt.show()\n",
    "\n",
    "for i in range(4):\n",
    "    masks = repeat(data['audio_mask'][i], 't -> b t', b=16).transpose(0, 1)\n",
    "    logmel_np = data['audio'][i]\n",
    "    print(logmel_np.shape, masks.shape)\n",
    "\n",
    "    logmel = np.concatenate([logmel_np, masks], axis=-1)\n",
    "    visualize_mel(logmel)\n",
    "    # visualize_mel(data['audio_mask'][0])"
   ]
  },
  {
   "cell_type": "code",
   "execution_count": 16,
   "id": "df804058",
   "metadata": {},
   "outputs": [
    {
     "data": {
      "text/plain": [
       "['as there had been before; as in the year eighteen forty-nine, a year memorable for the Rush murders at Norwich,',\n",
       " \"Givens said to Oswald, quote, Boy are you going downstairs? It's near lunch time, end quote.\",\n",
       " 'nothing but a linear tract of specially modified protoplasm between two points of an organism',\n",
       " 'The condition of the stone surface just mentioned assisted him in this, and he managed to get beyond the cistern to the railing below the chevaux-de-frise.']"
      ]
     },
     "execution_count": 16,
     "metadata": {},
     "output_type": "execute_result"
    }
   ],
   "source": [
    "data['original_text']"
   ]
  },
  {
   "cell_type": "code",
   "execution_count": 17,
   "id": "bb4158ab",
   "metadata": {},
   "outputs": [
    {
     "name": "stdout",
     "output_type": "stream",
     "text": [
      "Download Vocos from huggingface charactr/vocos-mel-24khz\n"
     ]
    }
   ],
   "source": [
    "from model.module import TTSModule\n",
    "\n",
    "model = TTSModule(\n",
    "    dim=256,\n",
    "    depth=5,\n",
    "    num_heads=4,\n",
    "    attn_dropout=0.0,\n",
    "    ff_dropout=0.0,\n",
    "    min_span=10,\n",
    "    voco_type='vocos',\n",
    "    sample_rate=24000,\n",
    "    max_audio_len=2000,\n",
    "    optimizer = \"AdamW\",\n",
    "    lr = 1e-4,\n",
    "    scheduler = \"linear_warmup_decay\",\n",
    "    use_torchode = True,\n",
    "    torchdiffeq_ode_method = \"midpoint\",\n",
    "    torchode_method_klass = \"tsit5\",\n",
    "    max_steps = 1_000_000,\n",
    "    n_mels = 100,\n",
    "    text_emb_dim = 128,\n",
    "    downsample_factors = [1, 2, 4, 2, 1],\n",
    "    # 추가 하이퍼파라미터(옵션)\n",
    "    warmup_ratio = 0.05,\n",
    "    min_lr_ratio = 0.1,\n",
    "    weight_decay = 0.01,\n",
    "    betas = (0.9, 0.95),\n",
    "    grad_clip_val = 1.0,\n",
    ")"
   ]
  },
  {
   "cell_type": "code",
   "execution_count": 30,
   "id": "05ca530d",
   "metadata": {},
   "outputs": [
    {
     "name": "stdout",
     "output_type": "stream",
     "text": [
      "torch.Size([4, 938])\n",
      "torch.Size([938, 100]) torch.Size([938, 32]) torch.Size([938, 32])\n"
     ]
    },
    {
     "name": "stderr",
     "output_type": "stream",
     "text": [
      "/tmp/ipykernel_967376/718459859.py:6: RuntimeWarning: More than 20 figures have been opened. Figures created through the pyplot interface (`matplotlib.pyplot.figure`) are retained until explicitly closed and may consume too much memory. (To control this warning, see the rcParam `figure.max_open_warning`). Consider using `matplotlib.pyplot.close()`.\n",
      "  plt.figure(figsize=(10, 4))\n"
     ]
    },
    {
     "name": "stdout",
     "output_type": "stream",
     "text": [
      "torch.Size([938, 100]) torch.Size([938, 32]) torch.Size([938, 32])\n",
      "torch.Size([938, 100]) torch.Size([938, 32]) torch.Size([938, 32])\n"
     ]
    }
   ],
   "source": [
    "span_mask = model.get_span_mask(data['audio_mask'])\n",
    "print(span_mask.shape)\n",
    "\n",
    "for i in range(3):\n",
    "    masks = repeat(data['audio_mask'][i], 't -> b t', b=32).transpose(0, 1)*10-6\n",
    "    span_masks = repeat(span_mask[i], 't -> b t', b=32).transpose(0, 1)*10-6\n",
    "    logmel_np = data['audio'][i]\n",
    "    print(logmel_np.shape, masks.shape, span_masks.shape)\n",
    "\n",
    "    logmel = np.concatenate([logmel_np, masks, span_masks], axis=-1)\n",
    "    visualize_mel(logmel)\n"
   ]
  },
  {
   "cell_type": "code",
   "execution_count": 31,
   "id": "1fcc3631",
   "metadata": {},
   "outputs": [],
   "source": [
    "plt.figure(figsize=(10, 4))\n",
    "plt.imshow(logmel.T, \n",
    "        aspect=\"auto\", \n",
    "        origin=\"lower\", \n",
    "        interpolation=\"none\")\n",
    "plt.colorbar(format=\"%+2.0f dB\")\n",
    "plt.title(\"Log-Mel Spectrogram\")\n",
    "plt.xlabel(\"Frames (Time)\")\n",
    "plt.ylabel(\"Mel bins\")\n",
    "plt.tight_layout()\n",
    "plt.show()\n"
   ]
  },
  {
   "cell_type": "code",
   "execution_count": 32,
   "id": "b4470c19",
   "metadata": {},
   "outputs": [],
   "source": [
    "plt.savefig(\"test.png\")"
   ]
  },
  {
   "cell_type": "code",
   "execution_count": null,
   "id": "9af624d1",
   "metadata": {},
   "outputs": [],
   "source": []
  }
 ],
 "metadata": {
  "kernelspec": {
   "display_name": "myenv",
   "language": "python",
   "name": "python3"
  },
  "language_info": {
   "codemirror_mode": {
    "name": "ipython",
    "version": 3
   },
   "file_extension": ".py",
   "mimetype": "text/x-python",
   "name": "python",
   "nbconvert_exporter": "python",
   "pygments_lexer": "ipython3",
   "version": "3.10.12"
  }
 },
 "nbformat": 4,
 "nbformat_minor": 5
}
